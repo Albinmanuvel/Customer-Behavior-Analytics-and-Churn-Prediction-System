{
 "cells": [
  {
   "cell_type": "code",
   "execution_count": 12,
   "metadata": {},
   "outputs": [],
   "source": [
    "import pandas as pd \n"
   ]
  },
  {
   "cell_type": "code",
   "execution_count": 28,
   "metadata": {},
   "outputs": [
    {
     "name": "stdout",
     "output_type": "stream",
     "text": [
      "Current Working Directory: c:\\Users\\Albin\\Customer-Behavior-Churn-Prediction\n"
     ]
    }
   ],
   "source": [
    "import os\n",
    "print(\"Current Working Directory:\", os.getcwd())\n"
   ]
  },
  {
   "cell_type": "code",
   "execution_count": 27,
   "metadata": {},
   "outputs": [],
   "source": [
    "os.chdir(r\"c:\\Users\\Albin\\Customer-Behavior-Churn-Prediction\"\n",
    ")\n"
   ]
  },
  {
   "cell_type": "code",
   "execution_count": 13,
   "metadata": {},
   "outputs": [],
   "source": [
    "data_path = \"C:/Users/Albin/Customer-Behavior-Churn-Prediction/data/raw/bigbasket_products.csv\"\n",
    "df = pd.read_csv(data_path)"
   ]
  },
  {
   "cell_type": "code",
   "execution_count": 14,
   "metadata": {},
   "outputs": [
    {
     "name": "stdout",
     "output_type": "stream",
     "text": [
      "<class 'pandas.core.frame.DataFrame'>\n",
      "RangeIndex: 27555 entries, 0 to 27554\n",
      "Data columns (total 10 columns):\n",
      " #   Column        Non-Null Count  Dtype  \n",
      "---  ------        --------------  -----  \n",
      " 0   index         27555 non-null  int64  \n",
      " 1   product       27554 non-null  object \n",
      " 2   category      27555 non-null  object \n",
      " 3   sub_category  27555 non-null  object \n",
      " 4   brand         27554 non-null  object \n",
      " 5   sale_price    27555 non-null  float64\n",
      " 6   market_price  27555 non-null  float64\n",
      " 7   type          27555 non-null  object \n",
      " 8   rating        18929 non-null  float64\n",
      " 9   description   27440 non-null  object \n",
      "dtypes: float64(3), int64(1), object(6)\n",
      "memory usage: 2.1+ MB\n",
      "None\n"
     ]
    }
   ],
   "source": [
    "print(df.info())"
   ]
  },
  {
   "cell_type": "code",
   "execution_count": 15,
   "metadata": {},
   "outputs": [
    {
     "name": "stdout",
     "output_type": "stream",
     "text": [
      "   index                                            product  \\\n",
      "0      1             Garlic Oil - Vegetarian Capsule 500 mg   \n",
      "1      2                              Water Bottle - Orange   \n",
      "2      3                     Brass Angle Deep - Plain, No.2   \n",
      "3      4  Cereal Flip Lid Container/Storage Jar - Assort...   \n",
      "4      5                 Creme Soft Soap - For Hands & Body   \n",
      "\n",
      "                 category           sub_category              brand  \\\n",
      "0        Beauty & Hygiene              Hair Care  Sri Sri Ayurveda    \n",
      "1  Kitchen, Garden & Pets  Storage & Accessories         Mastercook   \n",
      "2    Cleaning & Household            Pooja Needs                Trm   \n",
      "3    Cleaning & Household   Bins & Bathroom Ware             Nakoda   \n",
      "4        Beauty & Hygiene       Bath & Hand Wash              Nivea   \n",
      "\n",
      "   sale_price  market_price                      type  rating  \\\n",
      "0       220.0         220.0          Hair Oil & Serum     4.1   \n",
      "1       180.0         180.0    Water & Fridge Bottles     2.3   \n",
      "2       119.0         250.0           Lamp & Lamp Oil     3.4   \n",
      "3       149.0         176.0  Laundry, Storage Baskets     3.7   \n",
      "4       162.0         162.0      Bathing Bars & Soaps     4.4   \n",
      "\n",
      "                                         description  \n",
      "0  This Product contains Garlic Oil that is known...  \n",
      "1  Each product is microwave safe (without lid), ...  \n",
      "2  A perfect gift for all occasions, be it your m...  \n",
      "3  Multipurpose container with an attractive desi...  \n",
      "4  Nivea Creme Soft Soap gives your skin the best...  \n"
     ]
    }
   ],
   "source": [
    "print(df.head())"
   ]
  },
  {
   "cell_type": "code",
   "execution_count": 16,
   "metadata": {},
   "outputs": [
    {
     "name": "stdout",
     "output_type": "stream",
     "text": [
      "index              0\n",
      "product            1\n",
      "category           0\n",
      "sub_category       0\n",
      "brand              1\n",
      "sale_price         0\n",
      "market_price       0\n",
      "type               0\n",
      "rating          8626\n",
      "description      115\n",
      "dtype: int64\n"
     ]
    }
   ],
   "source": [
    "print(df.isnull().sum())"
   ]
  },
  {
   "cell_type": "code",
   "execution_count": 17,
   "metadata": {},
   "outputs": [
    {
     "name": "stdout",
     "output_type": "stream",
     "text": [
      "             index    sale_price  market_price        rating\n",
      "count  27555.00000  27555.000000  27555.000000  18929.000000\n",
      "mean   13778.00000    322.514808    382.056664      3.943410\n",
      "std     7954.58767    486.263116    581.730717      0.739063\n",
      "min        1.00000      2.450000      3.000000      1.000000\n",
      "25%     6889.50000     95.000000    100.000000      3.700000\n",
      "50%    13778.00000    190.000000    220.000000      4.100000\n",
      "75%    20666.50000    359.000000    425.000000      4.300000\n",
      "max    27555.00000  12500.000000  12500.000000      5.000000\n"
     ]
    }
   ],
   "source": [
    "print(df.describe())"
   ]
  },
  {
   "cell_type": "code",
   "execution_count": 22,
   "metadata": {},
   "outputs": [],
   "source": [
    "df = df.dropna(subset=['product'])"
   ]
  },
  {
   "cell_type": "code",
   "execution_count": 18,
   "metadata": {},
   "outputs": [],
   "source": [
    "df = df.dropna(subset=['brand'])"
   ]
  },
  {
   "cell_type": "code",
   "execution_count": 19,
   "metadata": {},
   "outputs": [],
   "source": [
    "df['description'] = df['description'].fillna('No description available')\n"
   ]
  },
  {
   "cell_type": "code",
   "execution_count": 20,
   "metadata": {},
   "outputs": [],
   "source": [
    "df['rating'] = df['rating'].fillna('No Rating')\n"
   ]
  },
  {
   "cell_type": "code",
   "execution_count": 23,
   "metadata": {},
   "outputs": [
    {
     "name": "stdout",
     "output_type": "stream",
     "text": [
      "index           0\n",
      "product         0\n",
      "category        0\n",
      "sub_category    0\n",
      "brand           0\n",
      "sale_price      0\n",
      "market_price    0\n",
      "type            0\n",
      "rating          0\n",
      "description     0\n",
      "dtype: int64\n"
     ]
    }
   ],
   "source": [
    "print(df.isnull().sum())"
   ]
  },
  {
   "cell_type": "code",
   "execution_count": 24,
   "metadata": {},
   "outputs": [
    {
     "name": "stdout",
     "output_type": "stream",
     "text": [
      "0\n"
     ]
    }
   ],
   "source": [
    "print(df.duplicated().sum())\n",
    "df = df.drop_duplicates()\n",
    "\n"
   ]
  },
  {
   "cell_type": "code",
   "execution_count": 29,
   "metadata": {},
   "outputs": [],
   "source": [
    "cleaned_path = \"data/processed/cleaned_bigbasket_products.csv\"\n",
    "df.to_csv(cleaned_path, index=False)\n"
   ]
  }
 ],
 "metadata": {
  "kernelspec": {
   "display_name": "env",
   "language": "python",
   "name": "python3"
  },
  "language_info": {
   "codemirror_mode": {
    "name": "ipython",
    "version": 3
   },
   "file_extension": ".py",
   "mimetype": "text/x-python",
   "name": "python",
   "nbconvert_exporter": "python",
   "pygments_lexer": "ipython3",
   "version": "3.12.3"
  }
 },
 "nbformat": 4,
 "nbformat_minor": 2
}
